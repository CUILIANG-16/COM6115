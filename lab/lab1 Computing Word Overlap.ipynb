{
 "cells": [
  {
   "cell_type": "markdown",
   "metadata": {},
   "source": [
    "# Computing Word Overlap\n",
    "## Step 1\n",
    "This week’s lab provides practice in word counting over multiple files. More specifically,\n",
    "we look at computing the level of word overlap between documents as an indicator of\n",
    "document similarity, which might arise in circumstances such as document duplication,\n",
    "text reuse (e.g. plagiarism), even simply having the same topic."
   ]
  },
  {
   "cell_type": "markdown",
   "metadata": {},
   "source": [
    "## Step 2\n",
    "Download the file `NEWS.zip` from the [module homepage](https://staffwww.dcs.shef.ac.uk/people/M.Hepple/campus_only/COM6115/) (see: **Lab Classes > Data/code\n",
    "files**). Unzip this to get a folder `NEWS` of short news articles (with names `news01.txt`, `news02.txt`, etc). Also download files `compare_STARTER_CODE.py` and `stop_list.txt`, and place them *alongside* the unzipped news folder. A *stop-list* is a list of 'unimportant' words - words that are often ignored during word counting (discussed later in the course)."
   ]
  },
  {
   "cell_type": "code",
   "execution_count": 1,
   "metadata": {
    "ExecuteTime": {
     "end_time": "2019-10-30T20:50:52.443322Z",
     "start_time": "2019-10-30T20:50:52.436481Z"
    }
   },
   "outputs": [],
   "source": [
    "import os\n",
    "if 'NEWS.zip' not in os.listdir():\n",
    "    import requests\n",
    "    url = 'http://jupi.ink:8889/notebooks/COM6115%20Text%20Processing/Practice/NEWS.zip'\n",
    "    r = requests.get(url) \n",
    "    with open(\"NEWS.zip\",'wb') as f:\n",
    "        f.write(r.content)\n",
    "if 'NEWS' not in os.listdir():\n",
    "    assert 'NEWS.zip' in os.listdir()\n",
    "    print('Extract files...')\n",
    "    import zipfile\n",
    "    zip = zipfile.ZipFile('./NEWS.zip', 'r')\n",
    "    for name in zip.namelist():\n",
    "        zip.extract(name, '.')\n",
    "    print('Finished.')"
   ]
  },
  {
   "cell_type": "markdown",
   "metadata": {
    "ExecuteTime": {
     "end_time": "2019-10-23T13:16:23.440314Z",
     "start_time": "2019-10-23T13:16:23.429398Z"
    }
   },
   "source": [
    "## Step 3\n",
    "Rename the *starter* code file as `compare.py`, and extend it to complete the lab exercises.\n",
    "\n",
    "The script might be called from the command line as follows:\n",
    "```shell\n",
    "> python compare.py -s stop_list.txt NEWS/news01.txt NEWS/news02.txt\n",
    "```\n",
    "Here, flag **-s** identifies `stop_list.txt` as an (optional) stoplist. The subsequent command line arguments (`news01.txt` and `news02.txt`) identify the files to be compared. These file names are stored as a list in the variable filenames.\n",
    "\n",
    "The starter code loads the stoplist, storing its words as a set in the variable stops. This is an appropriate choice of data structure, as it allows fast, hash-based look-up, via a simple test such as “**w in stops**”. If the stoplist is not specified, **stops** will store an empty set, in which case, the same test can be used, but will always return `False`.\n",
    "\n",
    "Later, we will want to call the code to take all the files in the `NEWS` folder as input, but the way to do this depends on the operating system (OS) being used.\n",
    "UNIX/LINUX/MAC: simply use ‘wildcards’ in the filename, as in the following example:\n",
    "```shell\n",
    "> python compare.py -s stop_list.txt NEWS/news??.txt\n",
    "```\n",
    "WINDOWS: the above convenience is not available in the Windows terminal, so the code\n",
    "instead implements it via the -I option, which must be supplied with a pattern to match\n",
    "the file names, as in the following example:\n",
    "```shell\n",
    "> python compare.py -s stop_list.txt -I NEWS/news??.txt\n",
    "```\n",
    "Study the starter code provided, to make sure you understand it.\n"
   ]
  },
  {
   "cell_type": "code",
   "execution_count": 2,
   "metadata": {
    "ExecuteTime": {
     "end_time": "2019-10-23T23:39:49.498252Z",
     "start_time": "2019-10-23T23:39:48.951511Z"
    }
   },
   "outputs": [
    {
     "name": "stdout",
     "output_type": "stream",
     "text": [
      "INPUT-FILES: NEWS/news01.txt NEWS/news02.txt NEWS/news03.txt NEWS/news04.txt NEWS/news05.txt NEWS/news06.txt NEWS/news07.txt NEWS/news08.txt NEWS/news09.txt NEWS/news10.txt NEWS/news11.txt NEWS/news12.txt NEWS/news13.txt NEWS/news14.txt NEWS/news15.txt NEWS/news16.txt NEWS/news17.txt NEWS/news18.txt NEWS/news19.txt NEWS/news20.txt NEWS/news21.txt NEWS/news22.txt NEWS/news23.txt NEWS/news24.txt NEWS/news25.txt NEWS/news26.txt NEWS/news27.txt NEWS/news28.txt NEWS/news29.txt NEWS/news30.txt NEWS/news31.txt NEWS/news32.txt\r\n"
     ]
    }
   ],
   "source": [
    "!python compare.py -s stop_list.txt NEWS/news??.txt"
   ]
  },
  {
   "cell_type": "markdown",
   "metadata": {},
   "source": [
    "## Step 4\n",
    "Starting with the case where there are only `two input files`, extend the code to compute\n",
    "and print a word `overlap score` (explained below in 7.) between the two texts, e.g. as in:"
   ]
  },
  {
   "cell_type": "code",
   "execution_count": 3,
   "metadata": {
    "ExecuteTime": {
     "end_time": "2019-10-23T23:39:52.649619Z",
     "start_time": "2019-10-23T23:39:52.104503Z"
    }
   },
   "outputs": [
    {
     "name": "stdout",
     "output_type": "stream",
     "text": [
      "INPUT-FILES: NEWS/news01.txt NEWS/news02.txt\r\n"
     ]
    }
   ],
   "source": [
    "!python compare.py -s stop_list.txt NEWS/news01.txt NEWS/news02.txt"
   ]
  },
  {
   "cell_type": "markdown",
   "metadata": {},
   "source": [
    "Some suggestions about components to implement as part of this script follow."
   ]
  },
  {
   "cell_type": "markdown",
   "metadata": {},
   "source": [
    "## Step 5\n",
    "TOKENISATION: To simplify, you might treat the words as being all the maximal alphabetic sequences found in the file (which can readily be extracted from each line with\n",
    "a simple regex, and the regex `findall` method). To improve **overlap**, you should convert\n",
    "the text to lowercase, so that different case variants are conflated in counting."
   ]
  },
  {
   "cell_type": "code",
   "execution_count": 4,
   "metadata": {
    "ExecuteTime": {
     "end_time": "2019-10-30T20:51:02.717906Z",
     "start_time": "2019-10-30T20:51:02.714127Z"
    }
   },
   "outputs": [],
   "source": [
    "def Readfile(path='NEWS/news{:02}.txt'.format(1)):\n",
    "    with open(path) as handle:\n",
    "        text = handle.read()\n",
    "    return text"
   ]
  },
  {
   "cell_type": "markdown",
   "metadata": {},
   "source": [
    "## Step 6\n",
    "COUNTING: You might define a function (e.g. `count_words`) which counts the occurrences of (non-stoplist) words in a file, and returns these counts as a **dictionary**, i.e. with\n",
    "**words as keys**, and **counts as values**. (Alternatively, you might define a simple class, whose instances store this information, and have the word counting function as a method.)"
   ]
  },
  {
   "cell_type": "code",
   "execution_count": 5,
   "metadata": {
    "ExecuteTime": {
     "end_time": "2019-10-30T20:51:05.407182Z",
     "start_time": "2019-10-30T20:51:05.400455Z"
    }
   },
   "outputs": [],
   "source": [
    "class words:\n",
    "    def __init__(self, text:str):\n",
    "        self.text = text\n",
    "        self.stop = stop\n",
    "        self.dict = dict()\n",
    "        self.CountWords()\n",
    "    \n",
    "    def _add2dict(self,word:str):\n",
    "        self.dict[word] = self.dict.get(word, 0) + 1\n",
    "    \n",
    "    def _text2list(self,text:str) -> list:\n",
    "        import re\n",
    "        return re.findall(r'[a-z]+',text.lower())\n",
    "    \n",
    "    def CountWords(self):\n",
    "        stop_set = set(self._text2list(self.stop))\n",
    "        words_list = self._text2list(self.text)\n",
    "        for word in words_list:\n",
    "            if word not in stop_set:\n",
    "                self._add2dict(word)"
   ]
  },
  {
   "cell_type": "markdown",
   "metadata": {},
   "source": [
    "## Step 7\n",
    "COMPARISON: You might define a function which, given a dictionary of the counts for\n",
    "two files, computes a measure of their word overlap. We will use versions of the *jaccard\n",
    "coefficient*. A simple version ignores the counts of words in the files, and instead treats\n",
    "each as just a set of word types. For word sets A and B, this measure is computed as:\n",
    "$$\n",
    "\\frac{\\left | A\\cap B \\right |}{\\left | A\\cup B \\right |}\n",
    "$$"
   ]
  },
  {
   "cell_type": "code",
   "execution_count": 6,
   "metadata": {
    "ExecuteTime": {
     "end_time": "2019-10-30T20:51:07.507633Z",
     "start_time": "2019-10-30T20:51:07.499026Z"
    }
   },
   "outputs": [
    {
     "name": "stdout",
     "output_type": "stream",
     "text": [
      "Jaccard score between NEWS/news01.txt and NEWS/news02.txt is 0.0199\n"
     ]
    }
   ],
   "source": [
    "def Jaccard(a:dict,b:dict)->float:\n",
    "    cap = set(a) & set(b)\n",
    "    cup = set(a) | set(b)\n",
    "    return len(cap)/len(cup) if len(cup) != 0 else 0\n",
    "\n",
    "stop = Readfile('NEWS/stop_list.txt')\n",
    "A = words(Readfile('NEWS/news01.txt'))\n",
    "B = words(Readfile('NEWS/news02.txt'))\n",
    "score = Jaccard(A.dict,B.dict)\n",
    "print('Jaccard score between {} and {} is {:.3}'\\\n",
    "      .format('NEWS/news01.txt','NEWS/news02.txt',score))"
   ]
  },
  {
   "cell_type": "markdown",
   "metadata": {},
   "source": [
    "## Step 8\n",
    "For a count-sensitive version of a jaccard metric, we might use the following. For compared files A and B, let $w_A$ and $w_B$ denote the counts of word $w$ in the two files respectively.\n",
    "Our measure is then computed as follows (where $\\sum_{w\\in A\\cup B}$ here ranges over the full set of terms appearing in *either* file):\n",
    "$$\n",
    "\\frac{\\sum_{w\\in A\\cup B}min(w_A,w_B)}{\\sum_{w\\in A\\cup B}max(w_A,w_B)}\n",
    "$$\n",
    "You might add a command-line option to determine whether this metric or the previous (*count-insensitive*) metric is applied, e.g. a boolean option **-b** (for binary $0$/$1$ weighting)"
   ]
  },
  {
   "cell_type": "code",
   "execution_count": 7,
   "metadata": {
    "ExecuteTime": {
     "end_time": "2019-10-30T20:51:09.511647Z",
     "start_time": "2019-10-30T20:51:09.505409Z"
    }
   },
   "outputs": [
    {
     "name": "stdout",
     "output_type": "stream",
     "text": [
      "Jaccard sensitive score between NEWS/news01.txt and NEWS/news02.txt is 0.0167\n"
     ]
    }
   ],
   "source": [
    "def JaccardSens(a:dict,b:dict)->float:\n",
    "    up,down = 0,0\n",
    "    for word in set(a) | set(b):\n",
    "        w_a = a.get(word,0)\n",
    "        w_b = b.get(word,0)\n",
    "        up += min(w_a,w_b)\n",
    "        down += max(w_a,w_b)\n",
    "    return up/down\n",
    "score_sens = JaccardSens(A.dict,B.dict)\n",
    "print('Jaccard sensitive score between {} and {} is {:.3}'\\\n",
    "      .format('NEWS/news01.txt','NEWS/news02.txt',score_sens))"
   ]
  },
  {
   "cell_type": "markdown",
   "metadata": {},
   "source": [
    "## Step 9\n",
    "Having produced a script that can compare two files, you might modify it to perform pairwise comparison across more than two files, e.g. as in the following, where the pattern picks out three input files for comparison:\n",
    "```shell\n",
    "> python compare.py -s stop_list.txt -I ’NEWS/news0[123].txt’\n",
    "NEWS/news01.txt <> NEWS/news02.txt = 0.017\n",
    "NEWS/news01.txt <> NEWS/news03.txt = 0.000\n",
    "NEWS/news02.txt <> NEWS/news03.txt = 0.011\n",
    "```\n",
    "Given the number of comparisons made here, you might modify your code to store up\n",
    "the scores, and then print out only the top N (e.g. 10) scoring comparisons."
   ]
  },
  {
   "cell_type": "code",
   "execution_count": 8,
   "metadata": {
    "ExecuteTime": {
     "end_time": "2019-10-30T20:51:11.816371Z",
     "start_time": "2019-10-30T20:51:11.805173Z"
    }
   },
   "outputs": [
    {
     "name": "stdout",
     "output_type": "stream",
     "text": [
      "NEWS/news01.txt  <>  NEWS/news02.txt = 0.017\n",
      "NEWS/news01.txt  <>  NEWS/news03.txt = 0.0\n",
      "NEWS/news02.txt  <>  NEWS/news03.txt = 0.011\n"
     ]
    }
   ],
   "source": [
    "def Combination(L):\n",
    "    total = []\n",
    "    while len(L) > 1:\n",
    "        a = L.pop(0) # get number\n",
    "        s = [[a,b] for b in L] # get combination\n",
    "        [total.append(i) for i in s] # save combination\n",
    "    return total\n",
    "\n",
    "def Multi_file(filename):\n",
    "    import re\n",
    "    files_index = list(re.findall('\\[([0-9]+)\\]','NEWS/news0[123].txt')[0])\n",
    "    for a,b in Combination(files_index):\n",
    "        file_a_name = 'NEWS/news{:02}.txt'.format(int(a))\n",
    "        file_b_name = 'NEWS/news{:02}.txt'.format(int(b))\n",
    "        A = words(Readfile(file_a_name))\n",
    "        B = words(Readfile(file_b_name))\n",
    "        score_sens = JaccardSens(A.dict,B.dict)\n",
    "        print('{}  <>  {} = {:.2}'\\\n",
    "              .format(file_a_name,file_b_name,score_sens))\n",
    "\n",
    "Multi_file('NEWS/news0[123].txt')"
   ]
  },
  {
   "cell_type": "markdown",
   "metadata": {},
   "source": [
    "## Step 10\n",
    "Apply your code to the full set of news articles to see if you can find the following cases\n",
    "of related files:\n",
    "* *duplication*: two of the news files are identical, in terms of their textual content\n",
    "(although they are not literally identical, as might be tested using unix diff)\n",
    "* *plagiarism*: one of the news files has been produced by cutting and pasting together\n",
    "text from two of the other files\n",
    "* *related topics*: three of the articles address the same news story, as given by three\n",
    "different newspapers. Do these separately authored presentations of the same story\n",
    "exhibit higher overlap than articles on unrelated topics? (Note, two of these related\n",
    "articles appear within the first 5 news stories.)"
   ]
  },
  {
   "cell_type": "code",
   "execution_count": null,
   "metadata": {},
   "outputs": [],
   "source": []
  }
 ],
 "metadata": {
  "kernelspec": {
   "display_name": "Python 3",
   "language": "python",
   "name": "python3"
  },
  "language_info": {
   "codemirror_mode": {
    "name": "ipython",
    "version": 3
   },
   "file_extension": ".py",
   "mimetype": "text/x-python",
   "name": "python",
   "nbconvert_exporter": "python",
   "pygments_lexer": "ipython3",
   "version": "3.7.3"
  },
  "latex_envs": {
   "LaTeX_envs_menu_present": true,
   "autoclose": false,
   "autocomplete": true,
   "bibliofile": "biblio.bib",
   "cite_by": "apalike",
   "current_citInitial": 1,
   "eqLabelWithNumbers": true,
   "eqNumInitial": 1,
   "hotkeys": {
    "equation": "Ctrl-E",
    "itemize": "Ctrl-I"
   },
   "labels_anchors": false,
   "latex_user_defs": false,
   "report_style_numbering": false,
   "user_envs_cfg": false
  },
  "toc": {
   "base_numbering": 1,
   "nav_menu": {},
   "number_sections": true,
   "sideBar": true,
   "skip_h1_title": false,
   "title_cell": "Table of Contents",
   "title_sidebar": "Contents",
   "toc_cell": false,
   "toc_position": {
    "height": "calc(100% - 180px)",
    "left": "10px",
    "top": "150px",
    "width": "165px"
   },
   "toc_section_display": true,
   "toc_window_display": false
  },
  "varInspector": {
   "cols": {
    "lenName": 16,
    "lenType": 16,
    "lenVar": 40
   },
   "kernels_config": {
    "python": {
     "delete_cmd_postfix": "",
     "delete_cmd_prefix": "del ",
     "library": "var_list.py",
     "varRefreshCmd": "print(var_dic_list())"
    },
    "r": {
     "delete_cmd_postfix": ") ",
     "delete_cmd_prefix": "rm(",
     "library": "var_list.r",
     "varRefreshCmd": "cat(var_dic_list()) "
    }
   },
   "position": {
    "height": "72px",
    "left": "667px",
    "right": "20px",
    "top": "120px",
    "width": "350px"
   },
   "types_to_exclude": [
    "module",
    "function",
    "builtin_function_or_method",
    "instance",
    "_Feature"
   ],
   "window_display": false
  }
 },
 "nbformat": 4,
 "nbformat_minor": 2
}
